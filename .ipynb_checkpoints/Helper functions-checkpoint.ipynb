{
 "cells": [
  {
   "cell_type": "code",
   "execution_count": 93,
   "metadata": {},
   "outputs": [],
   "source": [
    "from scipy import spatial\n",
    "import numpy as np"
   ]
  },
  {
   "cell_type": "code",
   "execution_count": 94,
   "metadata": {},
   "outputs": [],
   "source": [
    "def cosine_distance_pairs(a,b,x,y, delta):\n",
    "    '''\n",
    "    This function is the pairs(a,b) and (x,y) \n",
    "    with a threshold of delta\n",
    "    '''\n",
    "    print(np.linalg.norm(x-y))\n",
    "    if np.linalg.norm(x-y) <= delta:\n",
    "        return spatial.distance.cosine(a-b, x-y)\n",
    "    else:\n",
    "        return 0"
   ]
  },
  {
   "cell_type": "code",
   "execution_count": 95,
   "metadata": {},
   "outputs": [
    {
     "name": "stdout",
     "output_type": "stream",
     "text": [
      "4.898979485566356\n"
     ]
    },
    {
     "data": {
      "text/plain": [
       "0.17427717615522953"
      ]
     },
     "execution_count": 95,
     "metadata": {},
     "output_type": "execute_result"
    }
   ],
   "source": [
    "a=np.arange(6)\n",
    "cosine_distance_pairs(a, 2*a, pow(a,3),pow(a,3)+2, 18)"
   ]
  },
  {
   "cell_type": "code",
   "execution_count": 96,
   "metadata": {},
   "outputs": [],
   "source": [
    "def Direct_Bias(num_samples, gender_direction, samples, c ):\n",
    "    bias=0\n",
    "    for i in range(num_samples):\n",
    "        bias+= pow(abs(spatial.distance.cosine(samples[i,:],gender_direction)),c)\n",
    "        #print(bias)\n",
    "    \n",
    "    return bias"
   ]
  },
  {
   "cell_type": "code",
   "execution_count": 97,
   "metadata": {},
   "outputs": [],
   "source": [
    "g= np.array([1,0,0,0,0])\n",
    "samples=np.array([[1,1,1,1,1],[1,5,6,7,3]])\n",
    "num_samples=len(samples)\n",
    "c=.002"
   ]
  },
  {
   "cell_type": "code",
   "execution_count": 98,
   "metadata": {},
   "outputs": [
    {
     "data": {
      "text/plain": [
       "1.9986237014945347"
      ]
     },
     "execution_count": 98,
     "metadata": {},
     "output_type": "execute_result"
    }
   ],
   "source": [
    "Direct_Bias(num_samples, g, samples, c)"
   ]
  },
  {
   "cell_type": "code",
   "execution_count": 99,
   "metadata": {},
   "outputs": [],
   "source": [
    "def beta(w,v, g):\n",
    "    return (np.dot(w,v) - (np.dot(np.dot(w,g), np.dot(v,g))/ (np.linalg.norm(w, ord=2)*np.linalg.norm(v, ord=2))))/np.dot(w,v)"
   ]
  },
  {
   "cell_type": "code",
   "execution_count": 101,
   "metadata": {},
   "outputs": [
    {
     "data": {
      "text/plain": [
       "1.0"
      ]
     },
     "execution_count": 101,
     "metadata": {},
     "output_type": "execute_result"
    }
   ],
   "source": [
    "w=[1,0,1,1,1,1]\n",
    "v=[0,1,0,1,1,1]\n",
    "g=[1,0,1,0,0,0]\n",
    "beta(w,v,g)"
   ]
  }
 ],
 "metadata": {
  "kernelspec": {
   "display_name": "Python 3",
   "language": "python",
   "name": "python3"
  },
  "language_info": {
   "codemirror_mode": {
    "name": "ipython",
    "version": 3
   },
   "file_extension": ".py",
   "mimetype": "text/x-python",
   "name": "python",
   "nbconvert_exporter": "python",
   "pygments_lexer": "ipython3",
   "version": "3.7.3"
  }
 },
 "nbformat": 4,
 "nbformat_minor": 2
}
